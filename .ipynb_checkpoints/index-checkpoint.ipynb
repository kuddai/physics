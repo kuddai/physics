{
 "cells": [
  {
   "cell_type": "markdown",
   "metadata": {},
   "source": [
    "$$ \\newcommand{\\bm}[1]{\\boldsymbol{\\mathbf{#1}}} $$"
   ]
  },
  {
   "cell_type": "markdown",
   "metadata": {},
   "source": [
    "<img alt=\"background\" src=\"images/astronomy_map2.jpeg\">"
   ]
  },
  {
   "cell_type": "markdown",
   "metadata": {
    "collapsed": false
   },
   "source": [
    "# Задача Кеплера\n",
    "Это задача о движении в центральном гравитационном. Потенциальная энергия частицы в таком поле обратно пропорциональна расстоянию до центра поля\n",
    "\n",
    "$$ U(r) = -\\frac{\\alpha}{r} \\tag{1} $$\n",
    "\n",
    "где расстояние между частицами \n",
    "$$ r = |\\bm{x_2} - \\bm{x_1}| $$\n",
    "постоянная взаимодействия\n",
    "$$ \\alpha = G m_1 m_2 = G m \\mu > 0 $$\n",
    "$m$ - масса, $\\mu$ - привиденная масса, $G$ - гравитационная постоянная\n",
    "\n",
    "После этого \"эффективная\" потенциальная энергия\n",
    "$$ U_{эфф}(r) = -\\frac{\\alpha}{r} + \\frac{M^2}{2 m r^2} $$\n",
    "$M$ - момент импульса системы"
   ]
  },
  {
   "cell_type": "markdown",
   "metadata": {},
   "source": [
    "### Выбор масштаба\n",
    "Выберем масштабы длины и времени так, чтобы момент импульса (его модуль) и модуль постоянной взаимодействия $ |\\alpha| $ были равны единице.\n",
    "В этом масштабе потенциальная энергия\n",
    "$$ U_{эфф}(r) = -\\frac{1}{r} + \\frac{1}{2 r^2} $$"
   ]
  },
  {
   "cell_type": "markdown",
   "metadata": {},
   "source": [
    "### Форма траектории\n",
    "Используя вид \"эффективной\" потенциальной энегрии получаем\n",
    "$$ \\phi = arccos\\frac{\\dfrac{1}{r} - 1}{\\sqrt{1 + 2E}} + const_{\\phi_0} $$\n",
    "\n",
    "<button class=\"btn btn-primary\" type=\"button\" data-toggle=\"collapse\" data-target=\"#trajectory-explained\" aria-expanded=\"false\" aria-controls=\"collapseExample\">\n",
    "  Вывод\n",
    "</button>\n",
    "<div class=\"collapse\" id=\"trajectory-explained\">\n",
    "  <div class=\"well\">\n",
    "    <p>\n",
    "    Используем сохранение момента импульса системы\n",
    "    \\begin{align}\n",
    "    M &= m r^2 \\dot \\phi=const_M \\\\\n",
    "    M^2 &= m^2 r^4 \\dot \\phi^2 \\\\\n",
    "    \\frac{m r^2 \\dot \\phi^2}{2} &= \\frac{M^2}{2 m r^2}\n",
    "    \\end{align}\n",
    "    </p>\n",
    "    \n",
    "    <p>\n",
    "    Распишем полную энергию как сумму кинетической и потенциальной энергей, и получим\n",
    "    $$ E = \\frac{m}{2}(\\dot r^2 + r^2 \\dot \\phi^2) + U(r) = \\frac{m \\dot r^2}{2} + \\frac{M^2}{2 m r^2} + U(r) = \\frac{m \\dot r^2}{2} + U_{эфф}(r) = const_E $$\n",
    "    </p>\n",
    "    <p>\n",
    "    Отсюда\n",
    "    \\begin{align}\n",
    "    \\frac{m \\dot r^2}{2} &= E -  U_{эфф}(r) \\\\\n",
    "    \\dot r^2 &= \\frac{2}{m} [E -  U_{эфф}(r)] \\\\\n",
    "    \\dot r &= \\frac{dr}{dt} =  \\sqrt{\\frac{2}{m} [E -  U_{эфф}(r)]} \\\\\n",
    "    dt &= \\frac{dr}{\\sqrt{\\dfrac{2}{m} [E -  U_{эфф}(r)]}} \n",
    "    \\end{align}\n",
    "    </p>\n",
    "    <p>\n",
    "    Выразим $d\\phi$ из выражения для сохранения момента импульса\n",
    "    \\begin{align}\n",
    "    d\\phi &= \\frac{M}{m r^2} dt\n",
    "    \\end{align}\n",
    "    и получим выражение для траектории\n",
    "    \\begin{align}\n",
    "    d\\phi &= \\frac{\\dfrac{M}{r^2} dr}{\\sqrt{ 2m [E -  U_{эфф}(r)]}} \\\\\n",
    "    d\\phi &= \\frac{\\dfrac{M}{r^2} dr}{\\sqrt{ 2m [E + \\dfrac{\\alpha}{r} - \\dfrac{M^2}{2 m r^2}]}}\n",
    "    \\end{align}    \n",
    "    Далее для простоты используем обезразмеренную версию\n",
    "$$ d\\phi = \\frac{\\dfrac{1}{r^2} dr}{\\sqrt{ 2 [E + \\dfrac{1}{r} - \\dfrac{1}{2 r^2}]}} $$\n",
    "    </p>\n",
    "    <p>\n",
    "     Сделаем замену $u=\\dfrac{1}{r}$, $du=-\\dfrac{1}{r^2} dr$    \n",
    "     $$ d\\phi = -\\frac{du}{\\sqrt{2 [E + u - \\dfrac{u^2}{2}]}} $$\n",
    "     $$ d\\phi = -\\frac{du}{\\sqrt{2E + 2u - u^2}} $$\n",
    "     дополняя до полного квадрата\n",
    "     <br>\n",
    "     $$ d\\phi = -\\frac{du}{\\sqrt{2E + 2u - u^2 + 1 - 1}} $$\n",
    "     $$ d\\phi = -\\frac{du}{\\sqrt{2E + 1 - (u^2 - 2u + 1)}} $$\n",
    "     $$ d\\phi = -\\frac{d(u-1)}{\\sqrt{\\sqrt{2E + 1}^2 - (u - 1)^2}} $$\n",
    "     Далее распознаем <a href=\"https://ru.wikipedia.org/wiki/Список_интегралов_элементарных_функций\">стандартный интеграл для иррациональных функций (arccos)</a>\n",
    "     $$ \\phi = arccos\\frac{u - 1}{\\sqrt{2E + 1}} + const_{\\phi_0}  $$\n",
    "    </p>\n",
    "    <p>\n",
    "    Заменяя обратно $u$ на $\\dfrac{1}{r}$ получим ответ\n",
    "$$ \\phi = arccos\\frac{\\dfrac{1}{r} - 1}{\\sqrt{1 + 2E}} + const_{\\phi_0}  $$     \n",
    "    </p>\n",
    "  </div>\n",
    "</div>"
   ]
  },
  {
   "cell_type": "markdown",
   "metadata": {},
   "source": [
    "Выбирая систему отсчета в которой $const_{\\phi_0} = 0$ получим\n",
    "$$ \\phi = arccos\\frac{\\dfrac{1}{r} - 1}{\\sqrt{1 + 2E}} $$\n",
    "Отсюда \n",
    "$$ r = \\dfrac{1}{cos(\\phi) \\sqrt{1 + 2E} + 1} $$\n",
    "\n",
    "<button class=\"btn btn-primary\" type=\"button\" data-toggle=\"collapse\" data-target=\"#canonic-explained\" aria-expanded=\"false\" aria-controls=\"collapseExample\">\n",
    "  Вывод\n",
    "</button>\n",
    "<div class=\"collapse\" id=\"canonic-explained\">\n",
    "  <div class=\"well\">\n",
    "    <p>\n",
    "    \\begin{align}\n",
    "    cos(\\phi) &= cos(arccos\\frac{\\dfrac{1}{r} - 1}{\\sqrt{1 + 2E}}) \\\\\n",
    "    cos(\\phi) &= \\frac{\\dfrac{1}{r} - 1}{\\sqrt{1 + 2E}} \\\\\n",
    "    \\dfrac{1}{r} - 1 &= cos(\\phi) \\sqrt{1 + 2E}  \\\\\n",
    "    \\dfrac{1}{r} &=  cos(\\phi) \\sqrt{1 + 2E} + 1 \\\\\n",
    "    r &= \\dfrac{1}{cos(\\phi) \\sqrt{1 + 2E} + 1} \n",
    "    \\end{align}\n",
    "    </p>\n",
    "  </div>\n",
    "</div>"
   ]
  },
  {
   "cell_type": "markdown",
   "metadata": {},
   "source": [
    "Эта формула <a href=\"https://www.wikiwand.com/ru/%D0%9A%D0%BE%D0%BD%D0%B8%D1%87%D0%B5%D1%81%D0%BA%D0%BE%D0%B5_%D1%81%D0%B5%D1%87%D0%B5%D0%BD%D0%B8%D0%B5\"> каноничных сечений </a>,\n",
    "$$ r = \\dfrac{1}{e \\ cos(\\phi)  + 1} $$\n",
    "где эксцентриситет (Eccentricity) равен $e = \\sqrt{1 + 2E}$.\n",
    "\n",
    "Соотвенно в зависимости от полной энергии системы изменяется значение эксцентриситета, а следовательно форма траектории\n",
    "<br>\n",
    "\n",
    "\\begin{cases}\n",
    "e = 0,  & \\text{идеальная окружность} \\\\[2ex]\n",
    "0 < e < 1,  & \\text{эллипс} \\\\[2ex]\n",
    "e = 1,  & \\text{парабола} \\\\[2ex]\n",
    "e > 1,  & \\text{гипербола} \n",
    "\\end{cases}\n"
   ]
  },
  {
   "cell_type": "markdown",
   "metadata": {
    "collapsed": true
   },
   "source": [
    "> * Если демо не отображается, то нажмите кнопку \"run cell\" или shift + enter в ячейке снизу, чтобы увидеть демо"
   ]
  },
  {
   "cell_type": "code",
   "execution_count": 19,
   "metadata": {
    "collapsed": false
   },
   "outputs": [
    {
     "data": {
      "text/html": [
       "\n",
       "        <iframe\n",
       "            width=\"600\"\n",
       "            height=\"820\"\n",
       "            src=\"https://trinket.io/embed/glowscript/5993bc5da0?outputOnly=true&start=result\"\n",
       "            frameborder=\"0\"\n",
       "            allowfullscreen\n",
       "        ></iframe>\n",
       "        "
      ],
      "text/plain": [
       "<IPython.lib.display.IFrame at 0x107acf710>"
      ]
     },
     "execution_count": 19,
     "metadata": {},
     "output_type": "execute_result"
    }
   ],
   "source": [
    "from IPython.display import IFrame\n",
    "IFrame('https://trinket.io/embed/glowscript/5993bc5da0?outputOnly=true&start=result', width=600, height=820)"
   ]
  },
  {
   "cell_type": "markdown",
   "metadata": {
    "collapsed": true
   },
   "source": [
    "> * Передвигайте ползунок, чтобы изменить уровень полной энергии. <br>\n",
    "> * Заметьте, как меняется траектория в зависимости от того в скольких точках пересекается \"эффективный потенциал\"."
   ]
  }
 ],
 "metadata": {
  "kernelspec": {
   "display_name": "Python 2",
   "language": "python",
   "name": "python2"
  },
  "language_info": {
   "codemirror_mode": {
    "name": "ipython",
    "version": 2
   },
   "file_extension": ".py",
   "mimetype": "text/x-python",
   "name": "python",
   "nbconvert_exporter": "python",
   "pygments_lexer": "ipython2",
   "version": "2.7.10"
  },
  "widgets": {
   "state": {},
   "version": "1.1.2"
  }
 },
 "nbformat": 4,
 "nbformat_minor": 0
}
