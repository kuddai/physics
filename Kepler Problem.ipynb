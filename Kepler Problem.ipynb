{
 "cells": [
  {
   "cell_type": "markdown",
   "metadata": {
    "collapsed": false
   },
   "source": [
    "Радиальную часть движения можно рассматривать как одномерное движение в поле с \"эффективной\" потенциальной энергией. Для гравитационного потенциала она примет вид:\n",
    "\\begin{equation}\n",
    "  U_{эфф} = -\\frac{\\alpha}{r} + \\frac{M^2}{2 m r^2} \\tag{1}\n",
    "\\end{equation}"
   ]
  },
  {
   "cell_type": "code",
   "execution_count": null,
   "metadata": {
    "collapsed": false
   },
   "outputs": [],
   "source": [
    "from vpython import *\n",
    "from numpy import arange as range\n",
    "from math import *\n",
    "\n",
    "def one_plot():\n",
    "    oscillation = graph(xtitle='time', ytitle='Drag mouse to see value')\n",
    "    funct1 = gcurve(color=color.blue, width=4)\n",
    "    funct2 = gvbars(delta=0.4, color=color.red)\n",
    "    funct3 = gdots(color=color.orange, size=3)\n",
    "\n",
    "    for t in range(-30, 74, 1):\n",
    "        #rate(50)\n",
    "        funct1.plot( pos=(t, 5.0+5.0*cos(-0.2*t)*exp(0.015*t)) )\n",
    "        funct2.plot( pos=(t, 2.0+5.0*cos(-0.1*t)*exp(0.015*t)) )\n",
    "        funct3.plot( pos=(t, 5.0*cos(-0.03*t)*exp(0.015*t)) )\n",
    "\n",
    "one_plot()\n",
    "one_plot()\n",
    "print \"hi\""
   ]
  },
  {
   "cell_type": "code",
   "execution_count": null,
   "metadata": {
    "collapsed": true
   },
   "outputs": [],
   "source": []
  },
  {
   "cell_type": "code",
   "execution_count": null,
   "metadata": {
    "collapsed": true
   },
   "outputs": [],
   "source": []
  }
 ],
 "metadata": {
  "kernelspec": {
   "display_name": "VPython",
   "language": "python",
   "name": "vpython"
  },
  "language_info": {
   "codemirror_mode": {
    "name": "ipython",
    "version": 2
   },
   "file_extension": ".py",
   "mimetype": "text/x-python",
   "name": "python",
   "nbconvert_exporter": "python",
   "pygments_lexer": "ipython2",
   "version": "2.7.10"
  },
  "widgets": {
   "state": {},
   "version": "1.1.2"
  }
 },
 "nbformat": 4,
 "nbformat_minor": 0
}
