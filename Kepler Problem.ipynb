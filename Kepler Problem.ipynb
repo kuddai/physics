{
 "cells": [
  {
   "cell_type": "markdown",
   "metadata": {
    "collapsed": false
   },
   "source": [
    "Радиальную часть движения можно рассматривать как одномерное движение в поле с \"эффективной\" потенциальной энергией. Для гравитационного потенциала она примет вид:\n",
    "\\begin{equation}\n",
    "  U_{эфф} = -\\frac{\\alpha}{r} + \\frac{M^2}{2 m r^2} \\tag{1}\n",
    "\\end{equation}"
   ]
  },
  {
   "cell_type": "code",
   "execution_count": 2,
   "metadata": {
    "collapsed": false
   },
   "outputs": [
    {
     "ename": "ImportError",
     "evalue": "cannot import name crayola",
     "output_type": "error",
     "traceback": [
      "\u001b[0;31m---------------------------------------------------------------------------\u001b[0m",
      "\u001b[0;31mImportError\u001b[0m                               Traceback (most recent call last)",
      "\u001b[0;32m<ipython-input-2-cb621e8cb279>\u001b[0m in \u001b[0;36m<module>\u001b[0;34m()\u001b[0m\n\u001b[1;32m      1\u001b[0m \u001b[0;31m# After installing ivisual package using :  pip install ivisual\u001b[0m\u001b[0;34m\u001b[0m\u001b[0;34m\u001b[0m\u001b[0m\n\u001b[0;32m----> 2\u001b[0;31m \u001b[0;32mfrom\u001b[0m \u001b[0mivisual\u001b[0m \u001b[0;32mimport\u001b[0m \u001b[0;34m*\u001b[0m\u001b[0;34m\u001b[0m\u001b[0m\n\u001b[0m\u001b[1;32m      3\u001b[0m \u001b[0;34m\u001b[0m\u001b[0m\n\u001b[1;32m      4\u001b[0m \u001b[0mscene\u001b[0m \u001b[0;34m=\u001b[0m \u001b[0mcanvas\u001b[0m\u001b[0;34m(\u001b[0m\u001b[0;34m'Ball in Box'\u001b[0m\u001b[0;34m)\u001b[0m\u001b[0;34m\u001b[0m\u001b[0m\n\u001b[1;32m      5\u001b[0m print(\"\"\"\n",
      "\u001b[0;32m/Library/Python/2.7/site-packages/ivisual/__init__.py\u001b[0m in \u001b[0;36m<module>\u001b[0;34m()\u001b[0m\n\u001b[0;32m----> 1\u001b[0;31m \u001b[0;32mfrom\u001b[0m \u001b[0;34m.\u001b[0m\u001b[0mvisual\u001b[0m \u001b[0;32mimport\u001b[0m \u001b[0;34m*\u001b[0m\u001b[0;34m\u001b[0m\u001b[0m\n\u001b[0m",
      "\u001b[0;32m/Library/Python/2.7/site-packages/ivisual/visual.py\u001b[0m in \u001b[0;36m<module>\u001b[0;34m()\u001b[0m\n\u001b[1;32m      1\u001b[0m \u001b[0;32mfrom\u001b[0m \u001b[0m__future__\u001b[0m \u001b[0;32mimport\u001b[0m \u001b[0mprint_function\u001b[0m\u001b[0;34m,\u001b[0m \u001b[0mdivision\u001b[0m\u001b[0;34m,\u001b[0m \u001b[0mabsolute_import\u001b[0m\u001b[0;34m\u001b[0m\u001b[0m\n\u001b[0;32m----> 2\u001b[0;31m \u001b[0;32mfrom\u001b[0m \u001b[0;34m.\u001b[0m \u001b[0;32mimport\u001b[0m \u001b[0mcrayola\u001b[0m \u001b[0;32mas\u001b[0m \u001b[0mcolor\u001b[0m\u001b[0;34m\u001b[0m\u001b[0m\n\u001b[0m\u001b[1;32m      3\u001b[0m \u001b[0;32mfrom\u001b[0m \u001b[0;34m.\u001b[0m \u001b[0;32mimport\u001b[0m \u001b[0mmaterials\u001b[0m\u001b[0;34m\u001b[0m\u001b[0m\n\u001b[1;32m      4\u001b[0m \u001b[0;32mimport\u001b[0m \u001b[0mnumpy\u001b[0m \u001b[0;32mas\u001b[0m \u001b[0mnp\u001b[0m\u001b[0;34m\u001b[0m\u001b[0m\n\u001b[1;32m      5\u001b[0m \u001b[0;32mfrom\u001b[0m \u001b[0;34m.\u001b[0m\u001b[0mrate_control\u001b[0m \u001b[0;32mimport\u001b[0m \u001b[0;34m*\u001b[0m\u001b[0;34m\u001b[0m\u001b[0m\n",
      "\u001b[0;31mImportError\u001b[0m: cannot import name crayola"
     ]
    }
   ],
   "source": [
    "# After installing ivisual package using :  pip install ivisual\n",
    "from ivisual import *\n",
    "\n",
    "scene = canvas('Ball in Box')\n",
    "print(\"\"\"\n",
    "Right button drag to rotate \"camera\" to view scene.\n",
    "  On a one-button mouse, right is Command + mouse.\n",
    "Middle button to drag up or down to zoom in or out.\n",
    "  On a two-button mouse, middle is left + right.\n",
    "  On a one-button mouse, middle is Option + mouse.\n",
    "\"\"\")\n",
    "\n",
    "side = 4.0\n",
    "thk = 0.3\n",
    "s2 = 2*side - thk\n",
    "s3 = 2*side + thk\n",
    "wallR = box (pos=( side, 0, 0), size=(thk, s2, s3),  color = color.red)\n",
    "wallL = box (pos=(-side, 0, 0), size=(thk, s2, s3),  color = color.red)\n",
    "wallB = box (pos=(0, -side, 0), size=(s3, thk, s3),  color = color.blue)\n",
    "wallT = box (pos=(0,  side, 0), size=(s3, thk, s3),  color = color.blue)\n",
    "wallBK = box(pos=(0, 0, -side), size=(s2, s2, thk), color = (0.7,0.7,0.7))\n",
    "\n",
    "#ball = sphere (color = color.green, radius = 0.4)\n",
    "ball = sphere (color = color.green, radius = 0.4, make_trail=True, interval=5, retain=30)\n",
    "#ball = cone (color = color.green, radius = 0.4, make_trail=True, interval=5, retain=30)\n",
    "ball.mass = 1.0\n",
    "ball.p = vector (-0.15, -0.23, +0.27)\n",
    "\n",
    "side = side - thk*0.5 - ball.radius\n",
    "\n",
    "display(scene)\n",
    "\n",
    "dt = 0.5\n",
    "t=0.0\n",
    "while t < 2000:\n",
    "  rate(100)\n",
    "  t = t + dt\n",
    "  ball.pos = ball.pos + (ball.p/ball.mass)*dt\n",
    "  if not (side > ball.x > -side):\n",
    "    ball.p.x = -ball.p.x\n",
    "  if not (side > ball.y > -side):\n",
    "    ball.p.y = -ball.p.y\n",
    "  if not (side > ball.z > -side):\n",
    "    ball.p.z = -ball.p.z"
   ]
  },
  {
   "cell_type": "code",
   "execution_count": null,
   "metadata": {
    "collapsed": true
   },
   "outputs": [],
   "source": []
  },
  {
   "cell_type": "code",
   "execution_count": null,
   "metadata": {
    "collapsed": true
   },
   "outputs": [],
   "source": []
  }
 ],
 "metadata": {
  "kernelspec": {
   "display_name": "VPython",
   "language": "python",
   "name": "vpython"
  },
  "language_info": {
   "codemirror_mode": {
    "name": "ipython",
    "version": 2
   },
   "file_extension": ".py",
   "mimetype": "text/x-python",
   "name": "python",
   "nbconvert_exporter": "python",
   "pygments_lexer": "ipython2",
   "version": "2.7.10"
  },
  "widgets": {
   "state": {},
   "version": "1.1.2"
  }
 },
 "nbformat": 4,
 "nbformat_minor": 0
}
