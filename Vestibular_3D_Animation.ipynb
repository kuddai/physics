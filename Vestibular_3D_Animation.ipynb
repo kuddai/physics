{
 "cells": [
  {
   "cell_type": "markdown",
   "metadata": {},
   "source": [
    "# Visualize Results of 3D Analysis\n",
    "This Notebook demonstrates the movement of the \"nose\", resulting from the analysis of the vestibular exercise.\n",
    "\n",
    "**Note:** Typically the notebook kernel has to be re-started, and all output cleared, in order to see the animation window!\n",
    "\n"
   ]
  },
  {
   "cell_type": "code",
   "execution_count": 1,
   "metadata": {
    "collapsed": false
   },
   "outputs": [
    {
     "data": {
      "application/javascript": [
       "require.undef(\"nbextensions/jquery-ui.custom.min\");"
      ],
      "text/plain": [
       "<IPython.core.display.Javascript object>"
      ]
     },
     "metadata": {},
     "output_type": "display_data"
    },
    {
     "data": {
      "application/javascript": [
       "require.undef(\"nbextensions/glow.2.1.min\");"
      ],
      "text/plain": [
       "<IPython.core.display.Javascript object>"
      ]
     },
     "metadata": {},
     "output_type": "display_data"
    },
    {
     "data": {
      "application/javascript": [
       "require.undef(\"nbextensions/glowcomm\");"
      ],
      "text/plain": [
       "<IPython.core.display.Javascript object>"
      ]
     },
     "metadata": {},
     "output_type": "display_data"
    },
    {
     "data": {
      "application/javascript": [
       "require.undef(\"nbextensions/pako.min\");"
      ],
      "text/plain": [
       "<IPython.core.display.Javascript object>"
      ]
     },
     "metadata": {},
     "output_type": "display_data"
    },
    {
     "data": {
      "application/javascript": [
       "require.undef(\"nbextensions/pako_deflate.min\");"
      ],
      "text/plain": [
       "<IPython.core.display.Javascript object>"
      ]
     },
     "metadata": {},
     "output_type": "display_data"
    },
    {
     "data": {
      "application/javascript": [
       "require.undef(\"nbextensions/pako_inflate.min\");"
      ],
      "text/plain": [
       "<IPython.core.display.Javascript object>"
      ]
     },
     "metadata": {},
     "output_type": "display_data"
    },
    {
     "data": {
      "application/javascript": [
       "require([\"nbextensions/glowcomm\"], function(){console.log(\"glowcomm loaded\");})"
      ],
      "text/plain": [
       "<IPython.core.display.Javascript object>"
      ]
     },
     "metadata": {},
     "output_type": "display_data"
    },
    {
     "data": {
      "text/html": [
       "<div id=\"glowscript\" class=\"glowscript\"></div>"
      ],
      "text/plain": [
       "<IPython.core.display.HTML object>"
      ]
     },
     "metadata": {},
     "output_type": "display_data"
    },
    {
     "data": {
      "application/javascript": [
       "window.__context = { glowscript_container: $(\"#glowscript\").removeAttr(\"id\")}"
      ],
      "text/plain": [
       "<IPython.core.display.Javascript object>"
      ]
     },
     "metadata": {},
     "output_type": "display_data"
    }
   ],
   "source": [
    "from vpython import *\n",
    "import os"
   ]
  },
  {
   "cell_type": "code",
   "execution_count": 9,
   "metadata": {
    "collapsed": false
   },
   "outputs": [],
   "source": [
    "import numpy as np\n",
    "\n",
    "# This directory has to be adjusted to your local data!\n",
    "startup_dir = r'D:\\Users\\thomas\\Office\\CSS_Coding\\Python\\CSS_ipynb'\n",
    "inFile = r'data\\nose_dir.txt'\n",
    "data = np.loadtxt(os.path.join(startup_dir, inFile))"
   ]
  },
  {
   "cell_type": "code",
   "execution_count": 10,
   "metadata": {
    "collapsed": false
   },
   "outputs": [],
   "source": [
    "cs = curve(pos=[(-2, 0, 0), (2, 0, 0), \n",
    "                           (0, 0, 0), (0, 2, 0), (0, -2, 0),\n",
    "                            (0,0,0), (0, 0, 2), (0,0,-2)])\n",
    "horPlane = curve(pos=[(-2,0,-2), (-2,0,2),(2,0,2),(2,0,-2), (-2,0,-2)])\n",
    "        \n",
    "        \n",
    "xLabel = label(pos=vec(0,0,2), text='X')\n",
    "yLabel = label(pos=vec(2,0,0), text='Y')\n",
    "zLabel = label(pos=vec(0,2,0), text='Z')\n",
    "ii = 0\n",
    "q_arrow = arrow(pos=vec(0,0,0), \n",
    "                axis=vec(0,0,1),\n",
    "                shaftwidth=0.2)"
   ]
  },
  {
   "cell_type": "code",
   "execution_count": 11,
   "metadata": {
    "collapsed": false
   },
   "outputs": [],
   "source": [
    "while ii<len(data)-1:\n",
    "            ii = ii+1\n",
    "            rate(100)\n",
    "            dir_vector = data[ii]\n",
    "            q_arrow.axis=vec(dir_vector[1], dir_vector[2], dir_vector[0])"
   ]
  },
  {
   "cell_type": "markdown",
   "metadata": {},
   "source": [
    "    Author: Thomas Haslwanter\n",
    "    Date: May 6, 2016\n",
    "    Ver: 1.1\n",
    "\n",
    "<img src=\"data/images/CCA_40.png\">\n",
    "*The Vestibular System*  is licensed under a Creative Commons Attribution 4.0 International License."
   ]
  },
  {
   "cell_type": "code",
   "execution_count": null,
   "metadata": {
    "collapsed": true
   },
   "outputs": [],
   "source": []
  }
 ],
 "metadata": {
  "kernelspec": {
   "display_name": "VPython",
   "language": "python",
   "name": "vpython"
  },
  "language_info": {
   "codemirror_mode": {
    "name": "ipython",
    "version": 3
   },
   "file_extension": ".py",
   "mimetype": "text/x-python",
   "name": "python",
   "nbconvert_exporter": "python",
   "pygments_lexer": "ipython3",
   "version": "3.5.1"
  }
 },
 "nbformat": 4,
 "nbformat_minor": 0
}
